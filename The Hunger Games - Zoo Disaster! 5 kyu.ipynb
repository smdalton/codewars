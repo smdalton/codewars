{
 "cells": [
  {
   "cell_type": "code",
   "execution_count": 30,
   "metadata": {},
   "outputs": [],
   "source": [
    "## Zoo problem\n",
    "zoo = \"fox,bug,chicken,grass,sheep\"\n",
    "zoo = zoo.split(\",\")\n",
    "results = []"
   ]
  },
  {
   "cell_type": "code",
   "execution_count": 31,
   "metadata": {},
   "outputs": [
    {
     "data": {
      "text/plain": [
       "{'antelope': ['grass'],\n",
       " 'big-fish': ['little-fish'],\n",
       " 'bug': ['leaves'],\n",
       " 'bear': ['big-fish', 'bug', 'chicken', 'cow', 'leaves', 'sheep'],\n",
       " 'chicken': ['bug'],\n",
       " 'cow': ['grass'],\n",
       " 'fox': ['chicken', 'sheep'],\n",
       " 'giraffe': ['leaves'],\n",
       " 'lion': ['antelope', 'cow'],\n",
       " 'panda': ['leaves'],\n",
       " 'sheep': ['grass']}"
      ]
     },
     "execution_count": 31,
     "metadata": {},
     "output_type": "execute_result"
    }
   ],
   "source": [
    "# format the eating dict correctly\n",
    "raw = \"antelope eats grass big-fish eats little-fish bug eats leaves bear eats big-fish bear eats bug bear eats chicken bear eats cow bear eats leaves bear eats sheep chicken eats bug cow eats grass fox eats chicken fox eats sheep giraffe eats leaves lion eats antelope lion eats cow panda eats leaves sheep eats grass\"\n",
    "order = [ x for x in raw.split(\" \") if x !=\"eats\"]\n",
    "order = zip(order[::2], order[1::2])\n",
    "food_chain = {}\n",
    "for eater, eaten in order:\n",
    "    if eater in food_chain:\n",
    "        food_chain[eater].append(eaten)\n",
    "    else:\n",
    "        food_chain[eater] = [eaten]\n",
    "food_chain\n"
   ]
  },
  {
   "cell_type": "code",
   "execution_count": 32,
   "metadata": {},
   "outputs": [],
   "source": [
    "def eater_can_eat(eater, eaten):\n",
    "    if eater in food_chain and eaten in food_chain[eater]:\n",
    "        return True\n",
    "    else:\n",
    "        return False\n",
    "    "
   ]
  },
  {
   "cell_type": "code",
   "execution_count": 33,
   "metadata": {},
   "outputs": [
    {
     "data": {
      "text/plain": [
       "True"
      ]
     },
     "execution_count": 33,
     "metadata": {},
     "output_type": "execute_result"
    }
   ],
   "source": [
    "can_eat('antelope','grass')\n",
    "can_eat('bear','leaves')"
   ]
  },
  {
   "cell_type": "code",
   "execution_count": 54,
   "metadata": {},
   "outputs": [],
   "source": [
    "def eat(eater, eaten, eaten_index):\n",
    "    if can_eat(eater, eaten):\n",
    "        zoo.remove(eaten_index)\n",
    "        print(f\"{eater} eats {eaten}\")\n",
    "        results.append(f\"{eater} eats {eaten}\")"
   ]
  },
  {
   "cell_type": "code",
   "execution_count": 55,
   "metadata": {},
   "outputs": [],
   "source": [
    "# Main code\n",
    "\n",
    "# Massacre processes the eating list in n^2 time\n",
    "def massacre():\n",
    "    for i in range(len(zoo)):\n",
    "        eater = zoo[i]\n",
    "        try: \n",
    "            left_animal = zoo[i-1]\n",
    "        except:\n",
    "            print(\"out of bounds\")\n",
    "        try:\n",
    "            right_animal = zoo[i+1]\n",
    "        except:\n",
    "            print(\"out of bounds\")\n",
    "        if can_eat(eater, left_animal):\n",
    "            eat(eater, eaten, i-1)\n",
    "        elif can_eat(eater, right_animal):\n",
    "            eat(eater, eaten, i+1)"
   ]
  },
  {
   "cell_type": "code",
   "execution_count": 56,
   "metadata": {},
   "outputs": [
    {
     "name": "stdout",
     "output_type": "stream",
     "text": [
      "['fox', 'bug', 'chicken', 'grass', 'sheep']\n",
      "out of bounds\n"
     ]
    },
    {
     "ename": "ValueError",
     "evalue": "list.remove(x): x not in list",
     "output_type": "error",
     "traceback": [
      "\u001b[0;31m---------------------------------------------------------------------------\u001b[0m",
      "\u001b[0;31mValueError\u001b[0m                                Traceback (most recent call last)",
      "\u001b[0;32m<ipython-input-56-9d5b6a0fcf09>\u001b[0m in \u001b[0;36m<module>\u001b[0;34m\u001b[0m\n\u001b[1;32m      1\u001b[0m \u001b[0mprint\u001b[0m\u001b[0;34m(\u001b[0m\u001b[0mzoo\u001b[0m\u001b[0;34m)\u001b[0m\u001b[0;34m\u001b[0m\u001b[0m\n\u001b[0;32m----> 2\u001b[0;31m \u001b[0mmassacre\u001b[0m\u001b[0;34m(\u001b[0m\u001b[0;34m)\u001b[0m\u001b[0;34m\u001b[0m\u001b[0m\n\u001b[0m\u001b[1;32m      3\u001b[0m \u001b[0mprint\u001b[0m\u001b[0;34m(\u001b[0m\u001b[0mzoo\u001b[0m\u001b[0;34m)\u001b[0m\u001b[0;34m\u001b[0m\u001b[0m\n\u001b[1;32m      4\u001b[0m \u001b[0mprint\u001b[0m\u001b[0;34m(\u001b[0m\u001b[0mresults\u001b[0m\u001b[0;34m)\u001b[0m\u001b[0;34m\u001b[0m\u001b[0m\n",
      "\u001b[0;32m<ipython-input-55-5ac4459671e8>\u001b[0m in \u001b[0;36mmassacre\u001b[0;34m()\u001b[0m\n\u001b[1;32m     14\u001b[0m             \u001b[0mprint\u001b[0m\u001b[0;34m(\u001b[0m\u001b[0;34m\"out of bounds\"\u001b[0m\u001b[0;34m)\u001b[0m\u001b[0;34m\u001b[0m\u001b[0m\n\u001b[1;32m     15\u001b[0m         \u001b[0;32mif\u001b[0m \u001b[0mcan_eat\u001b[0m\u001b[0;34m(\u001b[0m\u001b[0meater\u001b[0m\u001b[0;34m,\u001b[0m \u001b[0mleft_animal\u001b[0m\u001b[0;34m)\u001b[0m\u001b[0;34m:\u001b[0m\u001b[0;34m\u001b[0m\u001b[0m\n\u001b[0;32m---> 16\u001b[0;31m             \u001b[0meat\u001b[0m\u001b[0;34m(\u001b[0m\u001b[0meater\u001b[0m\u001b[0;34m,\u001b[0m \u001b[0meaten\u001b[0m\u001b[0;34m,\u001b[0m \u001b[0mi\u001b[0m\u001b[0;34m-\u001b[0m\u001b[0;36m1\u001b[0m\u001b[0;34m)\u001b[0m\u001b[0;34m\u001b[0m\u001b[0m\n\u001b[0m\u001b[1;32m     17\u001b[0m         \u001b[0;32melif\u001b[0m \u001b[0mcan_eat\u001b[0m\u001b[0;34m(\u001b[0m\u001b[0meater\u001b[0m\u001b[0;34m,\u001b[0m \u001b[0mright_animal\u001b[0m\u001b[0;34m)\u001b[0m\u001b[0;34m:\u001b[0m\u001b[0;34m\u001b[0m\u001b[0m\n\u001b[1;32m     18\u001b[0m             \u001b[0meat\u001b[0m\u001b[0;34m(\u001b[0m\u001b[0meater\u001b[0m\u001b[0;34m,\u001b[0m \u001b[0meaten\u001b[0m\u001b[0;34m,\u001b[0m \u001b[0mi\u001b[0m\u001b[0;34m+\u001b[0m\u001b[0;36m1\u001b[0m\u001b[0;34m)\u001b[0m\u001b[0;34m\u001b[0m\u001b[0m\n",
      "\u001b[0;32m<ipython-input-54-41fff416858c>\u001b[0m in \u001b[0;36meat\u001b[0;34m(eater, eaten, eaten_index)\u001b[0m\n\u001b[1;32m      1\u001b[0m \u001b[0;32mdef\u001b[0m \u001b[0meat\u001b[0m\u001b[0;34m(\u001b[0m\u001b[0meater\u001b[0m\u001b[0;34m,\u001b[0m \u001b[0meaten\u001b[0m\u001b[0;34m,\u001b[0m \u001b[0meaten_index\u001b[0m\u001b[0;34m)\u001b[0m\u001b[0;34m:\u001b[0m\u001b[0;34m\u001b[0m\u001b[0m\n\u001b[1;32m      2\u001b[0m     \u001b[0;32mif\u001b[0m \u001b[0mcan_eat\u001b[0m\u001b[0;34m(\u001b[0m\u001b[0meater\u001b[0m\u001b[0;34m,\u001b[0m \u001b[0meaten\u001b[0m\u001b[0;34m)\u001b[0m\u001b[0;34m:\u001b[0m\u001b[0;34m\u001b[0m\u001b[0m\n\u001b[0;32m----> 3\u001b[0;31m         \u001b[0mzoo\u001b[0m\u001b[0;34m.\u001b[0m\u001b[0mremove\u001b[0m\u001b[0;34m(\u001b[0m\u001b[0meaten_index\u001b[0m\u001b[0;34m)\u001b[0m\u001b[0;34m\u001b[0m\u001b[0m\n\u001b[0m\u001b[1;32m      4\u001b[0m         \u001b[0mprint\u001b[0m\u001b[0;34m(\u001b[0m\u001b[0;34mf\"{eater} eats {eaten}\"\u001b[0m\u001b[0;34m)\u001b[0m\u001b[0;34m\u001b[0m\u001b[0m\n\u001b[1;32m      5\u001b[0m         \u001b[0mresults\u001b[0m\u001b[0;34m.\u001b[0m\u001b[0mappend\u001b[0m\u001b[0;34m(\u001b[0m\u001b[0;34mf\"{eater} eats {eaten}\"\u001b[0m\u001b[0;34m)\u001b[0m\u001b[0;34m\u001b[0m\u001b[0m\n",
      "\u001b[0;31mValueError\u001b[0m: list.remove(x): x not in list"
     ]
    }
   ],
   "source": [
    "print(zoo)\n",
    "massacre()\n",
    "print(zoo)\n",
    "print(results)"
   ]
  },
  {
   "cell_type": "code",
   "execution_count": null,
   "metadata": {},
   "outputs": [],
   "source": []
  }
 ],
 "metadata": {
  "kernelspec": {
   "display_name": "Python 3",
   "language": "python",
   "name": "python3"
  },
  "language_info": {
   "codemirror_mode": {
    "name": "ipython",
    "version": 3
   },
   "file_extension": ".py",
   "mimetype": "text/x-python",
   "name": "python",
   "nbconvert_exporter": "python",
   "pygments_lexer": "ipython3",
   "version": "3.6.6"
  }
 },
 "nbformat": 4,
 "nbformat_minor": 2
}
